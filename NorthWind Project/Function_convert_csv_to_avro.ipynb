{
 "cells": [
  {
   "cell_type": "code",
   "execution_count": 5,
   "id": "42069f0c",
   "metadata": {},
   "outputs": [],
   "source": [
    "import os\n",
    "import csv\n",
    "from io import BytesIO\n",
    "import fastavro\n",
    "\n",
    "def csv_to_avro(csv_folder, avro_folder):\n",
    "    for filename in os.listdir(csv_folder):\n",
    "        if filename.endswith(\".csv\"):\n",
    "            file_path = os.path.join(csv_folder, filename)\n",
    "\n",
    "            with open(file_path, 'r') as csvfile:\n",
    "                reader = csv.DictReader(csvfile)\n",
    "                data = [row for row in reader]\n",
    "\n",
    "            schema = {\n",
    "                'type': 'record',\n",
    "                'name': 'CsvRecord',\n",
    "                'fields': [{'name': field, 'type': 'string'} for field in reader.fieldnames]\n",
    "            }\n",
    "\n",
    "            avro_bytes_io = BytesIO()\n",
    "            fastavro.writer(avro_bytes_io, schema, data)\n",
    "            avro_bytes = avro_bytes_io.getvalue()\n",
    "\n",
    "            output_path = os.path.join(avro_folder, filename.split('.')[0])\n",
    "            with open(output_path + '.avro', 'wb') as avrofile:\n",
    "                avrofile.write(avro_bytes)\n",
    "\n",
    "# Specify your CSV and Avro folder paths\n",
    "csv_folder = 'C:\\\\Users\\\\Tolachau\\\\Documents\\\\Northwind'\n",
    "avro_folder = 'C:\\\\Users\\\\Tolachau\\\\Documents\\\\Northwind-avro'\n",
    "\n",
    "# Create the Avro folder if it doesn't exist\n",
    "if not os.path.exists(avro_folder):\n",
    "    os.makedirs(avro_folder)\n",
    "\n",
    "# Call the function to convert CSV files to Avro\n",
    "csv_to_avro(csv_folder, avro_folder)"
   ]
  },
  {
   "cell_type": "code",
   "execution_count": 4,
   "id": "d651177e",
   "metadata": {},
   "outputs": [
    {
     "name": "stdout",
     "output_type": "stream",
     "text": [
      "Collecting fastavro\n",
      "  Downloading fastavro-1.9.3-cp39-cp39-win_amd64.whl (546 kB)\n",
      "     -------------------------------------- 546.2/546.2 kB 5.7 MB/s eta 0:00:00\n",
      "Installing collected packages: fastavro\n",
      "Successfully installed fastavro-1.9.3\n",
      "Note: you may need to restart the kernel to use updated packages.\n"
     ]
    }
   ],
   "source": [
    "pip install fastavro"
   ]
  },
  {
   "cell_type": "code",
   "execution_count": null,
   "id": "d7eacbec",
   "metadata": {},
   "outputs": [],
   "source": []
  }
 ],
 "metadata": {
  "kernelspec": {
   "display_name": "Python 3 (ipykernel)",
   "language": "python",
   "name": "python3"
  },
  "language_info": {
   "codemirror_mode": {
    "name": "ipython",
    "version": 3
   },
   "file_extension": ".py",
   "mimetype": "text/x-python",
   "name": "python",
   "nbconvert_exporter": "python",
   "pygments_lexer": "ipython3",
   "version": "3.9.13"
  }
 },
 "nbformat": 4,
 "nbformat_minor": 5
}
